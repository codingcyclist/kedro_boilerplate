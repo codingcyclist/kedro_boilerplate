{
 "cells": [
  {
   "cell_type": "markdown",
   "id": "9aa785a5",
   "metadata": {},
   "source": [
    "# Getting started with `kedro`\n",
    "\n",
    "There is an **example jupyter notebook** that demonstrates some basic `kedro`, `plotly` and `qgrid` features. Once you start the Docker container,\n",
    "just open the jupyter link, navigate to the `notebooks/` directory, and checkout `kedro_example.ipynb`\n",
    "\n",
    "This notebook demonstrates some basic `kedro`, `plotly` and `qgrid` features. In particular, the examples are meant to showcase the benefits of **interactive** plotly charts and qgrid tables.\n",
    "\n",
    "Below, you'll find examples for how to...\n",
    "1. Add a `ExcelDataSet` to the kedro catalog\n",
    "2. Load data from the kedro catalog\n",
    "3. Use `qgrid` to render pandas DataFrames as interactive Tables\n",
    "4. Use `plotly` to create interactive charts, based on your data\n",
    "\n",
    "---\n",
    "\n",
    "## Add a `ExcelDataSet` to the kedro catalog\n",
    "The data at which we are looking here is just a publickly available retail data set from the UCI machine learning repository.\n",
    "\n",
    "For demo purposes, we're not using `context.catalog`, but create our own, local `catalog` object. However, the following steps (reading, visualizing) would have worked in exactly the same way if `retail_data_spark` was defined in `catalog.yml`\n",
    "\n",
    "Important to note here is that by explicitly definint the `openpyxl` angine in `load_args`, we can **read the data directly from the url**. However, we'll not be able to manipulate the data and **write it back** to the data set (i.e. using `catalog.save(\"retail_data\", retail_data)`"
   ]
  },
  {
   "cell_type": "code",
   "execution_count": 1,
   "id": "8cd27ead",
   "metadata": {},
   "outputs": [
    {
     "name": "stderr",
     "output_type": "stream",
     "text": [
      "/kedro/.local/lib/python3.7/site-packages/ipykernel/ipkernel.py:283: DeprecationWarning: `should_run_async` will not call `transform_cell` automatically in the future. Please pass the result to `transformed_cell` argument and any exception that happen during thetransform in `preprocessing_exc_tuple` in IPython 7.17 and above.\n",
      "  and should_run_async(code)\n",
      "/kedro/.local/lib/python3.7/site-packages/fsspec/__init__.py:43: DeprecationWarning: SelectableGroups dict interface is deprecated. Use select.\n",
      "  for spec in entry_points.get(\"fsspec.specs\", []):\n"
     ]
    }
   ],
   "source": [
    "# create a DataCatalog and add a SparkDataset\n",
    "from kedro.io import DataCatalog\n",
    "from kedro.extras.datasets.pandas import ExcelDataSet\n",
    "\n",
    "catalog = DataCatalog({'retail_data':ExcelDataSet(\n",
    "    filepath='https://archive.ics.uci.edu/ml/machine-learning-databases/00352/Online%20Retail.xlsx',\n",
    "    load_args={'engine':'openpyxl'}\n",
    ")})"
   ]
  },
  {
   "cell_type": "markdown",
   "id": "a7f6fca3",
   "metadata": {},
   "source": [
    "## Load data from the kedro catalog"
   ]
  },
  {
   "cell_type": "code",
   "execution_count": 2,
   "id": "6b8ac652",
   "metadata": {},
   "outputs": [
    {
     "name": "stdout",
     "output_type": "stream",
     "text": [
      "2021-05-12 21:36:56,315 - kedro.io.data_catalog - INFO - Loading data from `retail_data` (ExcelDataSet)...\n"
     ]
    },
    {
     "name": "stderr",
     "output_type": "stream",
     "text": [
      "/kedro/.local/lib/python3.7/site-packages/ipykernel/ipkernel.py:283: DeprecationWarning: `should_run_async` will not call `transform_cell` automatically in the future. Please pass the result to `transformed_cell` argument and any exception that happen during thetransform in `preprocessing_exc_tuple` in IPython 7.17 and above.\n",
      "  and should_run_async(code)\n"
     ]
    }
   ],
   "source": [
    "retail_data = catalog.load('retail_data')"
   ]
  },
  {
   "cell_type": "code",
   "execution_count": 3,
   "id": "2f7cf3af",
   "metadata": {},
   "outputs": [
    {
     "data": {
      "text/html": [
       "<div>\n",
       "<style scoped>\n",
       "    .dataframe tbody tr th:only-of-type {\n",
       "        vertical-align: middle;\n",
       "    }\n",
       "\n",
       "    .dataframe tbody tr th {\n",
       "        vertical-align: top;\n",
       "    }\n",
       "\n",
       "    .dataframe thead th {\n",
       "        text-align: right;\n",
       "    }\n",
       "</style>\n",
       "<table border=\"1\" class=\"dataframe\">\n",
       "  <thead>\n",
       "    <tr style=\"text-align: right;\">\n",
       "      <th></th>\n",
       "      <th>InvoiceNo</th>\n",
       "      <th>StockCode</th>\n",
       "      <th>Description</th>\n",
       "      <th>Quantity</th>\n",
       "      <th>InvoiceDate</th>\n",
       "      <th>UnitPrice</th>\n",
       "      <th>CustomerID</th>\n",
       "      <th>Country</th>\n",
       "    </tr>\n",
       "  </thead>\n",
       "  <tbody>\n",
       "    <tr>\n",
       "      <th>0</th>\n",
       "      <td>536365</td>\n",
       "      <td>85123A</td>\n",
       "      <td>WHITE HANGING HEART T-LIGHT HOLDER</td>\n",
       "      <td>6</td>\n",
       "      <td>2010-12-01 08:26:00</td>\n",
       "      <td>2.55</td>\n",
       "      <td>17850.0</td>\n",
       "      <td>United Kingdom</td>\n",
       "    </tr>\n",
       "    <tr>\n",
       "      <th>1</th>\n",
       "      <td>536365</td>\n",
       "      <td>71053</td>\n",
       "      <td>WHITE METAL LANTERN</td>\n",
       "      <td>6</td>\n",
       "      <td>2010-12-01 08:26:00</td>\n",
       "      <td>3.39</td>\n",
       "      <td>17850.0</td>\n",
       "      <td>United Kingdom</td>\n",
       "    </tr>\n",
       "    <tr>\n",
       "      <th>2</th>\n",
       "      <td>536365</td>\n",
       "      <td>84406B</td>\n",
       "      <td>CREAM CUPID HEARTS COAT HANGER</td>\n",
       "      <td>8</td>\n",
       "      <td>2010-12-01 08:26:00</td>\n",
       "      <td>2.75</td>\n",
       "      <td>17850.0</td>\n",
       "      <td>United Kingdom</td>\n",
       "    </tr>\n",
       "    <tr>\n",
       "      <th>3</th>\n",
       "      <td>536365</td>\n",
       "      <td>84029G</td>\n",
       "      <td>KNITTED UNION FLAG HOT WATER BOTTLE</td>\n",
       "      <td>6</td>\n",
       "      <td>2010-12-01 08:26:00</td>\n",
       "      <td>3.39</td>\n",
       "      <td>17850.0</td>\n",
       "      <td>United Kingdom</td>\n",
       "    </tr>\n",
       "    <tr>\n",
       "      <th>4</th>\n",
       "      <td>536365</td>\n",
       "      <td>84029E</td>\n",
       "      <td>RED WOOLLY HOTTIE WHITE HEART.</td>\n",
       "      <td>6</td>\n",
       "      <td>2010-12-01 08:26:00</td>\n",
       "      <td>3.39</td>\n",
       "      <td>17850.0</td>\n",
       "      <td>United Kingdom</td>\n",
       "    </tr>\n",
       "  </tbody>\n",
       "</table>\n",
       "</div>"
      ],
      "text/plain": [
       "  InvoiceNo StockCode                          Description  Quantity  \\\n",
       "0    536365    85123A   WHITE HANGING HEART T-LIGHT HOLDER         6   \n",
       "1    536365     71053                  WHITE METAL LANTERN         6   \n",
       "2    536365    84406B       CREAM CUPID HEARTS COAT HANGER         8   \n",
       "3    536365    84029G  KNITTED UNION FLAG HOT WATER BOTTLE         6   \n",
       "4    536365    84029E       RED WOOLLY HOTTIE WHITE HEART.         6   \n",
       "\n",
       "          InvoiceDate  UnitPrice  CustomerID         Country  \n",
       "0 2010-12-01 08:26:00       2.55     17850.0  United Kingdom  \n",
       "1 2010-12-01 08:26:00       3.39     17850.0  United Kingdom  \n",
       "2 2010-12-01 08:26:00       2.75     17850.0  United Kingdom  \n",
       "3 2010-12-01 08:26:00       3.39     17850.0  United Kingdom  \n",
       "4 2010-12-01 08:26:00       3.39     17850.0  United Kingdom  "
      ]
     },
     "execution_count": 3,
     "metadata": {},
     "output_type": "execute_result"
    }
   ],
   "source": [
    "retail_data.head()"
   ]
  },
  {
   "cell_type": "markdown",
   "id": "fa5fe019",
   "metadata": {},
   "source": [
    "## Use `qgrid` to render pandas DataFrames as interactive Tables\n",
    "\n",
    "`qgrid` is a lightweight, yet powerful widget to render pandas data frames with interactive features. Here are some aspects worth considering when using `qgrid`:\n",
    "* Don't render the **DataFrame as a whole** but pre-filter the number of rows (e.g. `head()`, `tail()`, `sample()`, etc.)\n",
    "* Use `qgrid.set_grid_option()` to set display option for qgrid globally"
   ]
  },
  {
   "cell_type": "code",
   "execution_count": 7,
   "id": "7c84af21",
   "metadata": {},
   "outputs": [
    {
     "name": "stderr",
     "output_type": "stream",
     "text": [
      "/kedro/.local/lib/python3.7/site-packages/ipykernel/ipkernel.py:283: DeprecationWarning: `should_run_async` will not call `transform_cell` automatically in the future. Please pass the result to `transformed_cell` argument and any exception that happen during thetransform in `preprocessing_exc_tuple` in IPython 7.17 and above.\n",
      "  and should_run_async(code)\n"
     ]
    },
    {
     "data": {
      "application/vnd.jupyter.widget-view+json": {
       "model_id": "0203120d424c4d43bd6a7036110634b5",
       "version_major": 2,
       "version_minor": 0
      },
      "text/plain": [
       "QgridWidget(grid_options={'fullWidthRows': True, 'syncColumnCellResize': True, 'forceFitColumns': False, 'defa…"
      ]
     },
     "metadata": {},
     "output_type": "display_data"
    }
   ],
   "source": [
    "import qgrid\n",
    "qgrid.set_grid_option('maxVisibleRows',12)\n",
    "qgrid.set_grid_option('forceFitColumns',False)\n",
    "qgrid.show_grid(retail_data.head(500))"
   ]
  },
  {
   "cell_type": "markdown",
   "id": "9e6caf63",
   "metadata": {},
   "source": [
    "## Use `plotly` to create interactive charts, based on your data"
   ]
  },
  {
   "cell_type": "code",
   "execution_count": 22,
   "id": "da5246d2",
   "metadata": {},
   "outputs": [
    {
     "name": "stderr",
     "output_type": "stream",
     "text": [
      "/kedro/.local/lib/python3.7/site-packages/ipykernel/ipkernel.py:283: DeprecationWarning: `should_run_async` will not call `transform_cell` automatically in the future. Please pass the result to `transformed_cell` argument and any exception that happen during thetransform in `preprocessing_exc_tuple` in IPython 7.17 and above.\n",
      "  and should_run_async(code)\n"
     ]
    }
   ],
   "source": [
    "from plotly import express as px\n",
    "\n",
    "daily_revenue = (retail_data['Quantity']*retail_data['UnitPrice']).groupby([retail_data.Country,retail_data['InvoiceDate'].dt.date]).sum()\n",
    "fig = px.line(\n",
    "    data_frame=daily_revenue.reset_index().rename(columns={0:\"DailyRevenue\"}),\n",
    "    x='InvoiceDate',\n",
    "    y='DailyRevenue',\n",
    "    color='Country'\n",
    ")\n",
    "fig.show()"
   ]
  }
 ],
 "metadata": {
  "kernelspec": {
   "display_name": "my_project",
   "language": "python",
   "name": "python3"
  },
  "language_info": {
   "codemirror_mode": {
    "name": "ipython",
    "version": 3
   },
   "file_extension": ".py",
   "mimetype": "text/x-python",
   "name": "python",
   "nbconvert_exporter": "python",
   "pygments_lexer": "ipython3",
   "version": "3.7.10"
  }
 },
 "nbformat": 4,
 "nbformat_minor": 5
}
